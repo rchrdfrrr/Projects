{
 "cells": [
  {
   "cell_type": "markdown",
   "id": "c104d6cb",
   "metadata": {},
   "source": [
    "Activity 3"
   ]
  },
  {
   "cell_type": "code",
   "execution_count": 1,
   "id": "8a566712",
   "metadata": {},
   "outputs": [],
   "source": [
    "from langgraph.prebuilt import create_react_agent\n",
    "from langgraph.checkpoint.memory import InMemorySaver\n",
    "from langchain_google_vertexai import ChatVertexAI\n",
    "import requests\n",
    "from typing import Tuple, List\n",
    "import csv\n",
    "\n",
    "MODEL_NAME = \"gemini-2.0-flash-001\"\n",
    "MODEL_KWARGS = {\n",
    "    \"temperature\": 0.28,\n",
    "    \"max_output_tokens\": 8192,\n",
    "    \"top_p\": 0.95,\n",
    "    \"top_k\": None,}\n",
    "\n",
    "MODEL = ChatVertexAI(model_name=MODEL_NAME, **MODEL_KWARGS)\n",
    "\n",
    "checkpointer = InMemorySaver()\n",
    "\n",
    "def get_weather(city_name: str) -> str:\n",
    "    \"\"\"\n",
    "    Fetches comprehensive weather information for a specified city using the wttr.in service.\n",
    "    \"\"\"\n",
    "    weather_url = f\"https://wttr.in/{city_name}?format=%C+%t+%w+%h+%p+%P+%m+%M+%S\"\n",
    "    response = requests.get(weather_url)\n",
    "    if response.status_code != 200:\n",
    "        return \"Weather information unavailable at the moment.\"\n",
    "    \n",
    "    print(\"Weather Agent used\")\n",
    "    return response.text\n",
    "\n",
    "\n",
    "def get_resorts(city_name: str, csv_path: str = \"C:/Users/richard.c.ferrer/Agents/resorts_data.csv\") -> List[List[str]]:\n",
    "    \"\"\"\n",
    "    Retrieves resorts from a CSV file filtered by the specified city name.\n",
    "\n",
    "    Returns:\n",
    "    List of [Resort Name, Location]\n",
    "    \"\"\"\n",
    "    resorts = []\n",
    "    try:\n",
    "        with open(csv_path, mode='r', encoding='utf-8') as file:\n",
    "            reader = csv.DictReader(file)\n",
    "            for row in reader:\n",
    "                if city_name.lower() in row[\"Location\"].lower():\n",
    "                    resorts.append([row[\"Resort\"], row[\"Location\"]])\n",
    "    except FileNotFoundError:\n",
    "        print(\"CSV file not found.\")\n",
    "    except KeyError:\n",
    "        print(\"CSV headers are incorrect. Expected: 'Resort' and 'Location'.\")\n",
    "\n",
    "    return resorts\n",
    "\n",
    "def get_bestresorts(city_name: str) -> Tuple[str, List[List[str]]]:\n",
    "    \"\"\"\n",
    "    Combines weather data and resort list into a single tool response.\n",
    "    \"\"\"\n",
    "    weather_data = get_weather(city_name)\n",
    "    resorts_data = get_resorts(city_name)\n",
    "    return weather_data, resorts_data\n",
    "\n",
    "bestresorts_agent = create_react_agent(\n",
    "    model=MODEL,\n",
    "    tools=[get_bestresorts],\n",
    "    prompt=\"\"\"\n",
    "    Check the weather and get the best resorts using your tool.\n",
    "    \"\"\",\n",
    "    name=\"bestresorts_agent\",\n",
    "    checkpointer=checkpointer\n",
    ")\n",
    "\n"
   ]
  },
  {
   "cell_type": "code",
   "execution_count": 2,
   "id": "d0581c41",
   "metadata": {},
   "outputs": [
    {
     "name": "stdout",
     "output_type": "stream",
     "text": [
      "Weather Agent used\n",
      "OK. The weather in Calamba is patchy rain nearby, +32°C, ↓7km/h, 71%, 0.0mm, 1010hPa, 🌔 9 05:26:06. Some resorts in Calamba are The Cliffhouse Calamba, Casa Palmera Royale, La Vista Pansol Resort, 88 Hotspring Resort, and Hannah Mountain Resort and Events Place.\n",
      "\n"
     ]
    }
   ],
   "source": [
    "response = bestresorts_agent.invoke(\n",
    "    {\n",
    "        \"messages\": [{\"role\": \"user\", \"content\": \"What are some good resorts in Calamba and how is the weather there right now?\"}]\n",
    "    },\n",
    "    config={\"configurable\": {\"thread_id\": \"1\"}},\n",
    ")\n",
    "print(response['messages'][-1].content)\n"
   ]
  }
 ],
 "metadata": {
  "kernelspec": {
   "display_name": ".venv",
   "language": "python",
   "name": "python3"
  },
  "language_info": {
   "codemirror_mode": {
    "name": "ipython",
    "version": 3
   },
   "file_extension": ".py",
   "mimetype": "text/x-python",
   "name": "python",
   "nbconvert_exporter": "python",
   "pygments_lexer": "ipython3",
   "version": "3.11.2"
  }
 },
 "nbformat": 4,
 "nbformat_minor": 5
}
