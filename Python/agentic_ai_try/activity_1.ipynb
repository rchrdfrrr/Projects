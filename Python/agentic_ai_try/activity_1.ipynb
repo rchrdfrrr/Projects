{
 "cells": [
  {
   "cell_type": "markdown",
   "id": "5a4953c7",
   "metadata": {},
   "source": [
    "Activity 1"
   ]
  },
  {
   "cell_type": "code",
   "execution_count": 1,
   "id": "9dd72478",
   "metadata": {},
   "outputs": [
    {
     "name": "stdout",
     "output_type": "stream",
     "text": [
      "Time elapsed: 8.20395541191101\n",
      "{'Description': \"The image shows a brown dachshund dog standing on its hind legs in front of a black electric piano. The dog is wearing a black collar with silver accents. Its front paws are resting on the piano keys, as if it is playing the instrument. Sheet music is propped up on the piano's music stand. The background is blurred, but it appears to be a room with a plant and curtains. The overall impression is humorous and whimsical, suggesting the dog is a talented musician.\"}\n",
      "<class 'dict'>\n"
     ]
    }
   ],
   "source": [
    "import time\n",
    "import fitz  # PyMuPDF\n",
    "from PIL import Image\n",
    "import io\n",
    "\n",
    "from vertexai import init\n",
    "from vertexai.generative_models import GenerativeModel, Part, GenerationConfig\n",
    "\n",
    "def extract(pdf_path: str, page_number: int = 0):\n",
    "    \"\"\"Extract prompt text and the first image from a PDF.\"\"\"\n",
    "    doc = fitz.open(pdf_path)\n",
    "    page = doc[page_number]\n",
    "    prompt_text = page.get_text().strip()\n",
    "\n",
    "    images = page.get_images(full=True)\n",
    "    if not images:\n",
    "        raise ValueError(\"No images found on the specified page.\")\n",
    "    \n",
    "    # Extracts first image from the page\n",
    "    xref = images[0][0]\n",
    "    base_image = doc.extract_image(xref)\n",
    "    image_bytes = base_image[\"image\"]\n",
    "    image = Image.open(io.BytesIO(image_bytes)).convert(\"RGB\")\n",
    "\n",
    "    return prompt_text, image\n",
    "\n",
    "def describe_image(pdf_path: str, page_number: int = 0):\n",
    "    st = time.time()\n",
    "    init(project=\"cjnyasg-customer360\", location=\"us-central1\")\n",
    "\n",
    "    model = GenerativeModel(\"gemini-2.0-flash-001\")\n",
    "\n",
    "    prompt_text, image = extract(pdf_path, page_number)\n",
    "\n",
    "    # Convert PIL image to bytes\n",
    "    img_byte_arr = io.BytesIO()\n",
    "    image.save(img_byte_arr, format='PNG')\n",
    "    img_bytes = img_byte_arr.getvalue()\n",
    "\n",
    "    # Create Gemini-compatible Parts\n",
    "    image_part = Part.from_data(data=img_bytes, mime_type=\"image/png\")\n",
    "    prompt_part = Part.from_text(prompt_text)\n",
    "\n",
    "    input_parts = [prompt_part, image_part]\n",
    "\n",
    "    generation_config = GenerationConfig(temperature=0.2, max_output_tokens=1024)\n",
    "\n",
    "    response = model.generate_content(contents=input_parts, generation_config=generation_config)\n",
    "    description = response.text.strip()\n",
    "\n",
    "    result = {\"Description\": description}\n",
    "    print(\"Time elapsed:\", time.time() - st)\n",
    "    print(result)\n",
    "    print(type(result))\n",
    "\n",
    "    return result\n",
    "\n",
    "# === Usage ===\n",
    "if __name__ == \"__main__\":\n",
    "    describe_image(\"C:/Users/richard.c.ferrer/Agents/image_ai.pdf\") \n"
   ]
  }
 ],
 "metadata": {
  "kernelspec": {
   "display_name": ".venv",
   "language": "python",
   "name": "python3"
  },
  "language_info": {
   "codemirror_mode": {
    "name": "ipython",
    "version": 3
   },
   "file_extension": ".py",
   "mimetype": "text/x-python",
   "name": "python",
   "nbconvert_exporter": "python",
   "pygments_lexer": "ipython3",
   "version": "3.11.2"
  }
 },
 "nbformat": 4,
 "nbformat_minor": 5
}
