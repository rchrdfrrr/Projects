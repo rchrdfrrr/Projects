{
 "cells": [
  {
   "cell_type": "code",
   "execution_count": null,
   "id": "8f087092",
   "metadata": {},
   "outputs": [
    {
     "name": "stdout",
     "output_type": "stream",
     "text": [
      "Palindrome check for 'Able was I ere I saw elba': True\n"
     ]
    }
   ],
   "source": [
    "#PALINDROME CHECKER FUNCTION\n",
    "\n",
    "def main():\n",
    "    user_input = input(\"Enter a string to check if it's a palindrome: \")\n",
    "    print(f\"Palindrome check for '{user_input}': {(Palindrome(user_input))}\")\n",
    "\n",
    "def Palindrome(Pal):\n",
    "    isPalindrome = Pal.replace(\".\", \"\").replace(\"'\", \"\").replace(\" \", \"\").replace(\",\", \"\").lower() #remove punctuation and spaces, and convert to lowercase to evaluate input string as plain text\n",
    "    if isPalindrome == isPalindrome[::-1]:\n",
    "        return True\n",
    "    else:\n",
    "        return False, isPalindrome[::-1]\n",
    "        \n",
    "    \n",
    "main()"
   ]
  },
  {
   "cell_type": "code",
   "execution_count": null,
   "id": "c8a591dc",
   "metadata": {},
   "outputs": [
    {
     "name": "stdout",
     "output_type": "stream",
     "text": [
      "1\n",
      "2\n",
      "Fizz\n",
      "4\n",
      "Buzz\n",
      "Fizz\n",
      "7\n",
      "None\n"
     ]
    }
   ],
   "source": [
    "#FizzBuzz function implementation\n",
    "def main():\n",
    "    inputfizzbuzz = int(input().strip())\n",
    "    print(fizzBuzz(inputfizzbuzz))\n",
    "\n",
    "def fizzBuzz(n):\n",
    "    if n < 1:\n",
    "        return\n",
    "    for i in range(1,n+1):\n",
    "        if i % 3 == 0 and  i % 5 == 0:\n",
    "            print('FizzBuzz')\n",
    "        elif i % 3 == 0:\n",
    "            print('Fizz')\n",
    "        elif i % 5 == 0:\n",
    "            print('Buzz')\n",
    "        else:\n",
    "            print(i)\n",
    "if __name__ == \"__main__\":\n",
    "    main()"
   ]
  },
  {
   "cell_type": "markdown",
   "id": "6f15cd74",
   "metadata": {},
   "source": [
    "**MATCH CASE**"
   ]
  },
  {
   "cell_type": "code",
   "execution_count": null,
   "id": "735f7ef6",
   "metadata": {},
   "outputs": [],
   "source": [
    "def main():\n",
    "    mvmnt = input(\"Enter your movement command (move/dance/stop): \").strip().lower()\n",
    "    x_coord = int(input(\"Enter x coordinate: \"))\n",
    "    y_coord = int(input(\"Enter y coordinate: \"))\n",
    "    direction = input(\"Enter direction (north/south/east/west): \").strip().lower()\n",
    "    cmd = [mvmnt, x_coord, y_coord, direction] #store all inputs in a list\n",
    "    print(cmd) #see the cmd list\n",
    "    command(cmd) #run the command function with the cmd list\n",
    "\n",
    "def command(cmd):\n",
    "    match cmd:\n",
    "        case(\"move\", x, y, direction): # match the first element of cmd with \"move\"\n",
    "            print(f\"Moving {direction} to coordinates ({x}, {y})\")\n",
    "        case(\"dance\", x, y, direction):\n",
    "            print(f\"Dancing {direction} at coordinates ({x}, {y})\")\n",
    "        case(\"stop\", \"sit\", \"stand\"):\n",
    "            print(\"Stopping the action\")\n",
    "        case _: # default case(_) if no match found\n",
    "            print(\"Unknown command\")\n",
    "\n",
    "\n",
    "main()\n"
   ]
  }
 ],
 "metadata": {
  "kernelspec": {
   "display_name": ".venv",
   "language": "python",
   "name": "python3"
  },
  "language_info": {
   "codemirror_mode": {
    "name": "ipython",
    "version": 3
   },
   "file_extension": ".py",
   "mimetype": "text/x-python",
   "name": "python",
   "nbconvert_exporter": "python",
   "pygments_lexer": "ipython3",
   "version": "3.13.5"
  }
 },
 "nbformat": 4,
 "nbformat_minor": 5
}
