{
 "cells": [
  {
   "cell_type": "markdown",
   "id": "ac2b6edf",
   "metadata": {},
   "source": [
    "**FUNCTIONS & VARIABLES**\n",
    "\n",
    "*function*:       a reusable block of code that performs a specific task or operation\n",
    "\n",
    "*argument*:       input to a function\n",
    "\n",
    "*side effect*:    any action a function or code block performs that modifies the state of the program or the environment, beyond its intended output or return value\n",
    "\n"
   ]
  },
  {
   "cell_type": "code",
   "execution_count": 10,
   "id": "05023f70",
   "metadata": {},
   "outputs": [
    {
     "name": "stdout",
     "output_type": "stream",
     "text": [
      "hello world\n"
     ]
    }
   ],
   "source": [
    "print(\"hello world\")"
   ]
  },
  {
   "cell_type": "markdown",
   "id": "b24d06cd",
   "metadata": {},
   "source": [
    "*return value*: the value a function sends back to the code that called it after the function completes its task\n",
    "\n",
    "*variable*: a named storage location that holds a value, which can be modified during the execution of a program\n",
    "\n",
    "*comment*:  notes within the code that are ignored by the compiler or interpreter when the program is executed\n",
    "\n",
    "*pseudocode*:  an informal way of writing code using English-like statements to describe an algorithm's logic without adhering to specific programming language syntax"
   ]
  },
  {
   "cell_type": "code",
   "execution_count": 20,
   "id": "54d33922",
   "metadata": {},
   "outputs": [
    {
     "name": "stdout",
     "output_type": "stream",
     "text": [
      "Hello, chard\n"
     ]
    }
   ],
   "source": [
    "#Ask user for their name\n",
    "name = input(\"What's your name? \")\n",
    "#Say hello to the user\n",
    "print(\"Hello,\",name) "
   ]
  },
  {
   "cell_type": "markdown",
   "id": "ddc45096",
   "metadata": {},
   "source": [
    "docs.python.org #python documentation\n",
    "\n",
    "docs.python.org/3/library/functions.html #functions library"
   ]
  },
  {
   "cell_type": "markdown",
   "id": "91520369",
   "metadata": {},
   "source": [
    "**PARAMETERS VS ARGUMENTS**\n",
    "\n",
    " *parameters*: parameters are the placeholders for data that a function expects as input, defined in the function's declaration\n",
    " \n",
    "-positional parameters: rely on the order of arguments\n",
    "\n",
    "    *EXAMPLE*\n",
    "    def create_user(username, email, age):\n",
    "    print(f\"Username: {username}, Email: {email}, Age: {age}\")\n",
    "\n",
    "    # The arguments \"john_doe\", \"john.doe@email.com\", and 30\n",
    "    # are matched to username, email, and age respectively based on their position.\n",
    "    create_user(\"john_doe\", \"john.doe@email.com\", 30)\n",
    "    \n",
    "-named parameters: allow you to pass arguments to a function by explicitly specifying the parameter name followed by its value\n",
    "\n",
    "    *EXAMPLE*\n",
    "    def create_user(username, email, age):\n",
    "    print(f\"Username: {username}, Email: {email}, Age: {age}\")\n",
    "\n",
    "    # The arguments are explicitly assigned to parameters by name.\n",
    "    # The order of arguments is different from the function definition, but the result is the same.\n",
    "    create_user(age=30, username=\"jane_doe\", email=\"jane.doe@email.com\"))\n",
    "\n",
    "*arguments*: arguments are the actual values that are passed into a function when it is called, which then become assigned to the corresponding parameters"
   ]
  },
  {
   "cell_type": "code",
   "execution_count": null,
   "id": "a562aaf2",
   "metadata": {},
   "outputs": [
    {
     "name": "stdout",
     "output_type": "stream",
     "text": [
      "Hello,chard\n"
     ]
    }
   ],
   "source": [
    "#Ask user for their name\n",
    "name = input(\"What's your name? \")\n",
    "#Say hello to the user\n",
    "print(\"Hello,\", end=\"\") \n",
    "#end parameter of print function is a new line by default, but we set it to empty string\n",
    "print(name) "
   ]
  },
  {
   "cell_type": "markdown",
   "id": "5a75ebba",
   "metadata": {},
   "source": [
    "**STRINGS**\n",
    "\n",
    "a sequence of text"
   ]
  },
  {
   "cell_type": "code",
   "execution_count": 32,
   "id": "035a3c01",
   "metadata": {},
   "outputs": [
    {
     "name": "stdout",
     "output_type": "stream",
     "text": [
      "hello Yahu\n"
     ]
    }
   ],
   "source": [
    "#Ask user for their name\n",
    "name = input(\"What's your name? \")\n",
    "\n",
    "#Remove whitespace from str\n",
    "name = name.strip()\n",
    "#strip() method removes any leading and trailing whitespace characters from the string\n",
    "\n",
    "#Capitalize user's name\n",
    "name = name.capitalize() \n",
    "#capitalize() method returns a copy of the string with its first character capitalized \n",
    "#and the rest lowercased.\n",
    "\n",
    "\n",
    "#Say hello to the user\n",
    "print(f\"hello {name}\")  #f-string for formatted string literals"
   ]
  },
  {
   "cell_type": "code",
   "execution_count": null,
   "id": "9267e950",
   "metadata": {},
   "outputs": [
    {
     "name": "stdout",
     "output_type": "stream",
     "text": [
      "hello Chard Ferrer\n"
     ]
    }
   ],
   "source": [
    "#Ask user for their name\n",
    "name = input(\"What's your name? \")\n",
    "\n",
    "\n",
    "#Capitalize user's name\n",
    "name = name.title() \n",
    "#title() method returns a copy of the string with the first character of each word capitalized.\n",
    "\n",
    "#Say hello to the user\n",
    "print(f\"hello {name}\")  #f-string for formatted string literals"
   ]
  },
  {
   "cell_type": "code",
   "execution_count": null,
   "id": "19574232",
   "metadata": {},
   "outputs": [
    {
     "name": "stdout",
     "output_type": "stream",
     "text": [
      "hello Shishi Doggy\n"
     ]
    }
   ],
   "source": [
    "#Ask user for their name\n",
    "name = input(\"What's your name? \").strip().title()\n",
    "#A shorter and cleaner way for applying the functions strip() and title() in one line\n",
    "\n",
    "#Say hello to the user\n",
    "print(f\"hello {name}\")  #f-string for formatted string literals"
   ]
  },
  {
   "cell_type": "code",
   "execution_count": 35,
   "id": "99f203d4",
   "metadata": {},
   "outputs": [
    {
     "name": "stdout",
     "output_type": "stream",
     "text": [
      "hello Hehe\n"
     ]
    }
   ],
   "source": [
    "#Ask user for their name\n",
    "name = input(\"What's your name? \").strip().title()\n",
    "#A shorter and cleaner way for applying the functions strip() and title() in one line\n",
    "\n",
    "\n",
    "#Split user's name into first and last name\n",
    "first_name, last_name = name.split()  #split() method splits the string into a list of words\n",
    "\n",
    "#Say hello to the user\n",
    "print(f\"hello {first_name}\")  #f-string for formatted string literals"
   ]
  },
  {
   "cell_type": "markdown",
   "id": "8b86aaa3",
   "metadata": {},
   "source": [
    "**INTEGERS FUNCTION**\n",
    "\n",
    "int\n"
   ]
  },
  {
   "cell_type": "code",
   "execution_count": null,
   "id": "ef9dfe42",
   "metadata": {},
   "outputs": [
    {
     "ename": "ValueError",
     "evalue": "invalid literal for int() with base 10: 'a'",
     "output_type": "error",
     "traceback": [
      "\u001b[31m---------------------------------------------------------------------------\u001b[39m",
      "\u001b[31mValueError\u001b[39m                                Traceback (most recent call last)",
      "\u001b[36mCell\u001b[39m\u001b[36m \u001b[39m\u001b[32mIn[37]\u001b[39m\u001b[32m, line 5\u001b[39m\n\u001b[32m      2\u001b[39m x = \u001b[38;5;28minput\u001b[39m(\u001b[33m\"\u001b[39m\u001b[33mEnter x value: \u001b[39m\u001b[33m\"\u001b[39m)\n\u001b[32m      3\u001b[39m y = \u001b[38;5;28minput\u001b[39m(\u001b[33m\"\u001b[39m\u001b[33mEnter y value: \u001b[39m\u001b[33m\"\u001b[39m)\n\u001b[32m----> \u001b[39m\u001b[32m5\u001b[39m z = \u001b[38;5;28;43mint\u001b[39;49m\u001b[43m(\u001b[49m\u001b[43mx\u001b[49m\u001b[43m)\u001b[49m + \u001b[38;5;28mint\u001b[39m(y)  \u001b[38;5;66;03m#convert input strings to integers and add them\u001b[39;00m\n\u001b[32m      7\u001b[39m \u001b[38;5;28mprint\u001b[39m(z)  \u001b[38;5;66;03m#print the result\u001b[39;00m\n",
      "\u001b[31mValueError\u001b[39m: invalid literal for int() with base 10: 'a'"
     ]
    }
   ],
   "source": [
    "#calculator\n",
    "x = input(\"Enter x value: \")\n",
    "y = input(\"Enter y value: \")\n",
    "\n",
    "z = int(x) + int(y)  #convert input strings to integers and add them\n",
    "\n",
    "print(z)  #print the result"
   ]
  },
  {
   "cell_type": "code",
   "execution_count": 43,
   "id": "5a648b75",
   "metadata": {},
   "outputs": [
    {
     "name": "stdout",
     "output_type": "stream",
     "text": [
      "7\n"
     ]
    }
   ],
   "source": [
    "#calculator\n",
    "x = int(input(\"Enter x value: \"))\n",
    "y = int(input(\"Enter y value: \"))\n",
    "\n",
    "print(x+y)"
   ]
  },
  {
   "cell_type": "markdown",
   "id": "f3f86491",
   "metadata": {},
   "source": [
    "**FLOAT FUNCTION**\n",
    "\n",
    "(floating point value)\n",
    "\n",
    "a number with a decimal point"
   ]
  },
  {
   "cell_type": "code",
   "execution_count": null,
   "id": "a251b7d0",
   "metadata": {},
   "outputs": [
    {
     "name": "stdout",
     "output_type": "stream",
     "text": [
      "5 3\n"
     ]
    }
   ],
   "source": [
    "#calculator\n",
    "x = float(input(\"Enter x value: \"))\n",
    "y = float(input(\"Enter y value: \"))\n",
    "\n",
    "print(x+y)\n"
   ]
  },
  {
   "cell_type": "code",
   "execution_count": null,
   "id": "0d27f930",
   "metadata": {},
   "outputs": [
    {
     "name": "stdout",
     "output_type": "stream",
     "text": [
      "1,000.00\n"
     ]
    }
   ],
   "source": [
    "#calculator\n",
    "x = float(input(\"Enter x value: \"))\n",
    "y = float(input(\"Enter y value: \"))\n",
    "\n",
    "z = x + y\n",
    "\n",
    "print(f\"{z:,.2f}\") #formatted string to print the result with commas and two decimal places\n"
   ]
  },
  {
   "cell_type": "code",
   "execution_count": 68,
   "id": "08e0a090",
   "metadata": {},
   "outputs": [
    {
     "name": "stdout",
     "output_type": "stream",
     "text": [
      "0.667\n"
     ]
    }
   ],
   "source": [
    "#calculator\n",
    "x = float(input(\"Enter x value: \"))\n",
    "y = float(input(\"Enter y value: \"))\n",
    "\n",
    "z = round(x / y,3)\n",
    "\n",
    "print(z)\n"
   ]
  },
  {
   "cell_type": "code",
   "execution_count": 70,
   "id": "06b3deb9",
   "metadata": {},
   "outputs": [
    {
     "name": "stdout",
     "output_type": "stream",
     "text": [
      "0.6667\n"
     ]
    }
   ],
   "source": [
    "#calculator\n",
    "x = float(input(\"Enter x value: \"))\n",
    "y = float(input(\"Enter y value: \"))\n",
    "\n",
    "z = x / y\n",
    "\n",
    "print(f\"{z:.4f}\")\n"
   ]
  },
  {
   "cell_type": "markdown",
   "id": "6a86662c",
   "metadata": {},
   "source": [
    "**DEFINE**\n",
    "\n",
    "*def* - to use, it must already exist (should be above of where you wanna use the function)"
   ]
  },
  {
   "cell_type": "code",
   "execution_count": null,
   "id": "8fb7bbab",
   "metadata": {},
   "outputs": [
    {
     "name": "stdout",
     "output_type": "stream",
     "text": [
      "hello Richard Ferrer\n"
     ]
    }
   ],
   "source": [
    "def hello():\n",
    "    \"\"\"function that asks for user's name and says hello\"\"\"\n",
    "    print(f\"Hello {name}\")  #f-string for formatted string literals\n",
    "\n",
    "name = input(\"What's your name? \").strip().title()\n",
    "hello()"
   ]
  },
  {
   "cell_type": "code",
   "execution_count": 82,
   "id": "f5d4dc1f",
   "metadata": {},
   "outputs": [
    {
     "name": "stdout",
     "output_type": "stream",
     "text": [
      "Hello, Mikel Jakson!\n"
     ]
    }
   ],
   "source": [
    "#PARAMETERIZED FUNCTION\n",
    "def hello(toname):\n",
    "    \"\"\"function that says hello to the user\"\"\"\n",
    "    print(f\"Hello, {toname}!\")  #f-string for formatted string literals\n",
    "\n",
    "name = input(\"What's your name? \").strip().title()\n",
    "hello(name) \n",
    "#passing the name as an argument to the function\n",
    "#even though the function is defined with a parameter, we can still call it with a variable"
   ]
  },
  {
   "cell_type": "code",
   "execution_count": 83,
   "id": "7a42c8f3",
   "metadata": {},
   "outputs": [
    {
     "name": "stdout",
     "output_type": "stream",
     "text": [
      "Hello, pogi!\n"
     ]
    }
   ],
   "source": [
    "#PARAMETERIZED FUNCTION\n",
    "def hello(toname=\"pogi\"):\n",
    "    \"\"\"function that says hello to the user\"\"\"\n",
    "    print(f\"Hello, {toname}!\")  #f-string for formatted string literals\n",
    "\n",
    "hello()  #calling the function without any argument, it will use the default value \"pogi\""
   ]
  },
  {
   "cell_type": "code",
   "execution_count": 90,
   "id": "d6530a6d",
   "metadata": {},
   "outputs": [
    {
     "name": "stdout",
     "output_type": "stream",
     "text": [
      "Hello, Pogi Yowoy!\n"
     ]
    }
   ],
   "source": [
    "def main():\n",
    "    \"\"\"Main function that runs the program\"\"\"\n",
    "    name = input(\"What's your name? \").strip().title()  #Ask user for their name\n",
    "    hello(name)  #calling the hello function with the user's name\n",
    "\n",
    "def hello(toname=\"pogi\"):\n",
    "    \"\"\"function that says hello to the user\"\"\"\n",
    "    print(f\"Hello, {toname}!\")  #f-string for formatted string literals\n",
    "\n",
    "if __name__ == \"__main__\":\n",
    "    main()  #calling the main function to run the program"
   ]
  },
  {
   "cell_type": "markdown",
   "id": "6224fdff",
   "metadata": {},
   "source": [
    "**SCOPE**\n",
    "\n",
    "- refers to a variable only existing in the context in which you defined it"
   ]
  },
  {
   "cell_type": "code",
   "execution_count": null,
   "id": "e1963f1c",
   "metadata": {},
   "outputs": [
    {
     "ename": "NameError",
     "evalue": "name 'toname' is not defined",
     "output_type": "error",
     "traceback": [
      "\u001b[31m---------------------------------------------------------------------------\u001b[39m",
      "\u001b[31mNameError\u001b[39m                                 Traceback (most recent call last)",
      "\u001b[36mCell\u001b[39m\u001b[36m \u001b[39m\u001b[32mIn[92]\u001b[39m\u001b[32m, line 11\u001b[39m\n\u001b[32m      8\u001b[39m     \u001b[38;5;28mprint\u001b[39m(\u001b[33mf\u001b[39m\u001b[33m\"\u001b[39m\u001b[33mHello, \u001b[39m\u001b[38;5;132;01m{\u001b[39;00mtoname\u001b[38;5;132;01m}\u001b[39;00m\u001b[33m!\u001b[39m\u001b[33m\"\u001b[39m)  \u001b[38;5;66;03m#f-string for formatted string literals\u001b[39;00m\n\u001b[32m     10\u001b[39m \u001b[38;5;28;01mif\u001b[39;00m \u001b[34m__name__\u001b[39m == \u001b[33m\"\u001b[39m\u001b[33m__main__\u001b[39m\u001b[33m\"\u001b[39m:\n\u001b[32m---> \u001b[39m\u001b[32m11\u001b[39m     \u001b[43mmain\u001b[49m\u001b[43m(\u001b[49m\u001b[43m)\u001b[49m  \u001b[38;5;66;03m#calling the main function to run the program\u001b[39;00m\n",
      "\u001b[36mCell\u001b[39m\u001b[36m \u001b[39m\u001b[32mIn[92]\u001b[39m\u001b[32m, line 4\u001b[39m, in \u001b[36mmain\u001b[39m\u001b[34m()\u001b[39m\n\u001b[32m      2\u001b[39m \u001b[38;5;250m\u001b[39m\u001b[33;03m\"\"\"Main function that runs the program\"\"\"\u001b[39;00m\n\u001b[32m      3\u001b[39m name = \u001b[38;5;28minput\u001b[39m(\u001b[33m\"\u001b[39m\u001b[33mWhat\u001b[39m\u001b[33m'\u001b[39m\u001b[33ms your name? \u001b[39m\u001b[33m\"\u001b[39m).strip().title()  \u001b[38;5;66;03m#Ask user for their name\u001b[39;00m\n\u001b[32m----> \u001b[39m\u001b[32m4\u001b[39m \u001b[43mhello\u001b[49m\u001b[43m(\u001b[49m\u001b[43m)\u001b[49m\n",
      "\u001b[36mCell\u001b[39m\u001b[36m \u001b[39m\u001b[32mIn[92]\u001b[39m\u001b[32m, line 8\u001b[39m, in \u001b[36mhello\u001b[39m\u001b[34m()\u001b[39m\n\u001b[32m      6\u001b[39m \u001b[38;5;28;01mdef\u001b[39;00m\u001b[38;5;250m \u001b[39m\u001b[34mhello\u001b[39m():\n\u001b[32m      7\u001b[39m \u001b[38;5;250m    \u001b[39m\u001b[33;03m\"\"\"function that says hello to the user\"\"\"\u001b[39;00m\n\u001b[32m----> \u001b[39m\u001b[32m8\u001b[39m     \u001b[38;5;28mprint\u001b[39m(\u001b[33mf\u001b[39m\u001b[33m\"\u001b[39m\u001b[33mHello, \u001b[39m\u001b[38;5;132;01m{\u001b[39;00m\u001b[43mtoname\u001b[49m\u001b[38;5;132;01m}\u001b[39;00m\u001b[33m!\u001b[39m\u001b[33m\"\u001b[39m)\n",
      "\u001b[31mNameError\u001b[39m: name 'toname' is not defined"
     ]
    }
   ],
   "source": [
    "#Example of a function that is not defined before it is called\n",
    "def main():\n",
    "    \"\"\"Main function that runs the program\"\"\"\n",
    "    name = input(\"What's your name? \").strip().title()  #Ask user for their name\n",
    "    hello()  #calling the hello function with the user's name\n",
    "\n",
    "def hello():\n",
    "    \"\"\"function that says hello to the user\"\"\"\n",
    "    print(f\"Hello, {toname}!\")  #f-string for formatted string literals\n",
    "\n",
    "if __name__ == \"__main__\":\n",
    "    main()  #calling the main function to run the program"
   ]
  },
  {
   "cell_type": "markdown",
   "id": "a9d4f07f",
   "metadata": {},
   "source": [
    "**RETURN FUNCTION** \n",
    "\n",
    "return "
   ]
  },
  {
   "cell_type": "code",
   "execution_count": 99,
   "id": "65f3cd92",
   "metadata": {},
   "outputs": [
    {
     "name": "stdout",
     "output_type": "stream",
     "text": [
      "Is 4.00 divisible by 2, 3, or 5?:\n",
      "Divisible by 2\n"
     ]
    }
   ],
   "source": [
    "def main():\n",
    "    \"\"\"Main function that takes input from the user and calls the divisible function\"\"\"\n",
    "    x = int(input(\"Enter a value: \"))\n",
    "    print(f\"Is {x:.2f} divisible by 2, 3, or 5?:\")\n",
    "    print(divisible(x))\n",
    "\n",
    "def divisible(by):\n",
    "    \"\"\"Function that checks if a number is divisible by numbers 2, 3, or 5\"\"\"\n",
    "    if by % 2 == 0:\n",
    "        return \"Divisible by 2\"\n",
    "    elif by % 3 == 0:\n",
    "        return \"Divisible by 3\"\n",
    "    elif by % 5 == 0:\n",
    "        return \"Divisible by 5\"\n",
    "    else:\n",
    "        return \"Not divisible by 2, 3, or 5\"\n",
    "\n",
    "if __name__ == \"__main__\":\n",
    "    main()  #calling the main function to run the program"
   ]
  },
  {
   "cell_type": "markdown",
   "id": "381da8a9",
   "metadata": {},
   "source": [
    "**CONDITIONALS**\n",
    "\n",
    "if, elif, else\n",
    "\n",
    "or and \n"
   ]
  },
  {
   "cell_type": "code",
   "execution_count": null,
   "id": "8998f64f",
   "metadata": {},
   "outputs": [
    {
     "name": "stdout",
     "output_type": "stream",
     "text": [
      "6 is greater than 5\n"
     ]
    }
   ],
   "source": [
    "x = int(input(\"Enter a value x: \"))\n",
    "y = int(input(\"Enter a value y: \"))\n",
    "\n",
    "if x < y:\n",
    "    print(f\"{x} is less than {y}\")\n",
    "elif x > y:\n",
    "    print(f\"{x} is greater than {y}\")\n",
    "else:\n",
    "    print(f\"{x} is equal to {y}\") "
   ]
  },
  {
   "cell_type": "code",
   "execution_count": 7,
   "id": "df52d25e",
   "metadata": {},
   "outputs": [
    {
     "name": "stdout",
     "output_type": "stream",
     "text": [
      "You got a C\n"
     ]
    }
   ],
   "source": [
    "score = int(input(\"Enter your score: \"))\n",
    "if score >= 90 :\n",
    "    print(\"You got an A\")\n",
    "elif score >= 80:\n",
    "    print(\"You got a B\")\n",
    "elif score >= 70:\n",
    "    print(\"You got a C\")\n",
    "elif score >= 60:\n",
    "    print(\"You got a D\")\n",
    "else:\n",
    "    print(\"You got an F\")"
   ]
  },
  {
   "cell_type": "code",
   "execution_count": null,
   "id": "2d9a16f3",
   "metadata": {},
   "outputs": [
    {
     "name": "stdout",
     "output_type": "stream",
     "text": [
      "You got an A\n"
     ]
    }
   ],
   "source": [
    "#ENCLOSING IT IN A FUNCTION\n",
    "def main():\n",
    "    x = int(input(\"Enter your score: \"))\n",
    "    if grade(x):\n",
    "        return\n",
    "\n",
    "def grade(score):\n",
    "    \"\"\"Function that checks the grade based on the score\"\"\"\n",
    "    if score >= 90:\n",
    "        print(\"You got an A\")\n",
    "    elif score >= 80:\n",
    "        print(\"You got a B\")\n",
    "    elif score >= 70:\n",
    "        print(\"You got a C\")\n",
    "    elif score >= 60:\n",
    "        print(\"You got a D\")\n",
    "    else:\n",
    "        print(\"You got an F\")\n",
    "\n",
    "main()"
   ]
  },
  {
   "cell_type": "markdown",
   "id": "46076d17",
   "metadata": {},
   "source": [
    "**MATCH**\n",
    "\n",
    "The match-case syntax is based on structural pattern matching, which enables matching against data structures like sequences, mappings and even classes, providing more granularity and flexibility in handling various conditions. This feature is particularly useful when dealing with different types of data in a clear and organized manner.\n",
    "\n",
    "    match subject:\n",
    "\n",
    "        case pattern1:\n",
    "\n",
    "            # Code block if pattern1 matches\n",
    "\n",
    "        case pattern2:\n",
    "\n",
    "            # Code block if pattern2 matches\n",
    "            \n",
    "        case _:\n",
    "\n",
    "            # Default case (wildcard) if no other pattern matches\n"
   ]
  },
  {
   "cell_type": "code",
   "execution_count": null,
   "id": "dfb58ed2",
   "metadata": {},
   "outputs": [
    {
     "name": "stdout",
     "output_type": "stream",
     "text": [
      "['move', 35, 93, 'east']\n",
      "Moving east to coordinates (35, 93)\n"
     ]
    }
   ],
   "source": [
    "def main():\n",
    "    mvmnt = input(\"Enter your movement command (move/dance/stop): \").strip().lower()\n",
    "    x_coord = int(input(\"Enter x coordinate: \"))\n",
    "    y_coord = int(input(\"Enter y coordinate: \"))\n",
    "    direction = input(\"Enter direction (north/south/east/west): \").strip().lower()\n",
    "    cmd = [mvmnt, x_coord, y_coord, direction]\n",
    "    print(cmd)\n",
    "    command(cmd)\n",
    "\n",
    "def command(cmd):\n",
    "    match cmd:\n",
    "        case(\"move\", x, y, direction):\n",
    "            print(f\"Moving {direction} to coordinates ({x}, {y})\")\n",
    "        case(\"dance\", x, y, direction):\n",
    "            print(f\"Dancing {direction} at coordinates ({x}, {y})\")\n",
    "        case(\"stop\", \"sit\", \"stand\"):\n",
    "            print(\"Stopping the action\")\n",
    "        case _:\n",
    "            print(\"Unknown command\")\n",
    "\n",
    "\n",
    "main()\n"
   ]
  },
  {
   "cell_type": "code",
   "execution_count": 19,
   "id": "addf373c",
   "metadata": {},
   "outputs": [
    {
     "name": "stdout",
     "output_type": "stream",
     "text": [
      "You got a B\n"
     ]
    }
   ],
   "source": [
    "def main():\n",
    "    x = int(input(\"Enter your score: \"))\n",
    "    if grade(x):\n",
    "        return\n",
    "\n",
    "def grade(score):\n",
    "    \"\"\"Function that checks the grade based on the score\"\"\"\n",
    "    match score:\n",
    "        case k if score >= 90:\n",
    "            print(\"You got an A\")\n",
    "        case k if score >= 80:\n",
    "            print(\"You got a B\")\n",
    "        case k if score >= 70:\n",
    "            print(\"You got a C\")\n",
    "        case k if score >= 60:\n",
    "            print(\"You got a D\")\n",
    "        case _:\n",
    "            print(\"You got an F\")\n",
    "\n",
    "main()"
   ]
  },
  {
   "cell_type": "markdown",
   "id": "66fa4b64",
   "metadata": {},
   "source": [
    "**LOOPS**\n",
    "\n",
    " loops are control flow statements that allow you to execute a block of code repeatedly. They are essential for automating repetitive tasks and working with collections of data. There are two primary types of loops in Python: for loops and while loops. "
   ]
  },
  {
   "cell_type": "markdown",
   "id": "90f2a8f1",
   "metadata": {},
   "source": [
    "*    **WHILE LOOP**\n",
    "\n",
    "    while loops execute a block of code repeatedly as long as a condition is true"
   ]
  },
  {
   "cell_type": "code",
   "execution_count": 7,
   "id": "b6dc1b17",
   "metadata": {},
   "outputs": [
    {
     "name": "stdout",
     "output_type": "stream",
     "text": [
      "meow\n",
      "meow\n",
      "meow\n"
     ]
    }
   ],
   "source": [
    "i = 3\n",
    "\n",
    "while i != 0:\n",
    "    print(\"meow\")\n",
    "    i = i - 1\n",
    "\n",
    "#program runs until i is equal to 0 by decrementing 1 from i every loop (i - 1),\n",
    "#hence, it prints 3 meows"
   ]
  },
  {
   "cell_type": "code",
   "execution_count": 13,
   "id": "ab9b3df3",
   "metadata": {},
   "outputs": [
    {
     "name": "stdout",
     "output_type": "stream",
     "text": [
      "meow\n",
      "meow\n",
      "meow\n"
     ]
    }
   ],
   "source": [
    "i = 0\n",
    "while i < 3:\n",
    "    print(\"meow\")\n",
    "    i += 1\n",
    "    # +- is a special syntax which means increment i "
   ]
  },
  {
   "cell_type": "markdown",
   "id": "bc219624",
   "metadata": {},
   "source": [
    "*    **FOR LOOP**\n",
    "\n",
    "    for loops are used to iterate over a sequence (such as a list, tuple, string, or range) or other iterable objects. They execute a block of code for each item in the sequence."
   ]
  },
  {
   "cell_type": "code",
   "execution_count": 14,
   "id": "1a1388ae",
   "metadata": {},
   "outputs": [
    {
     "name": "stdout",
     "output_type": "stream",
     "text": [
      "meow\n",
      "meow\n",
      "meow\n"
     ]
    }
   ],
   "source": [
    "for i in [0, 1, 2]:\n",
    "    print(\"meow\")\n",
    "#works but doesn't work or too noob for extreme cases such as numbers > 10+++"
   ]
  },
  {
   "cell_type": "code",
   "execution_count": 19,
   "id": "5e2b9330",
   "metadata": {},
   "outputs": [
    {
     "name": "stdout",
     "output_type": "stream",
     "text": [
      "meow\n",
      "meow\n",
      "meow\n"
     ]
    }
   ],
   "source": [
    "for i in range(3):\n",
    "    print(\"meow\")\n",
    "\n",
    "#using range() function is better"
   ]
  },
  {
   "cell_type": "code",
   "execution_count": 25,
   "id": "e452a961",
   "metadata": {},
   "outputs": [
    {
     "name": "stdout",
     "output_type": "stream",
     "text": [
      "meow\n",
      "meow\n",
      "meow\n"
     ]
    }
   ],
   "source": [
    "#The underscore symbol _ in a for loop is often used as a convention to indicate \n",
    "#that the loop variable is not used within the loop's body. \n",
    "#It serves as a placeholder when the iteration itself is important, \n",
    "#but the actual value of the loop variable is irrelevant.\n",
    "\n",
    "for _ in range(3):\n",
    "    print(\"meow\")"
   ]
  },
  {
   "cell_type": "code",
   "execution_count": 26,
   "id": "f2c74ce0",
   "metadata": {},
   "outputs": [
    {
     "name": "stdout",
     "output_type": "stream",
     "text": [
      "meow\n",
      "meow\n",
      "meow\n"
     ]
    }
   ],
   "source": [
    "print(\"meow\\n\" * 3, end = \"\")"
   ]
  },
  {
   "cell_type": "code",
   "execution_count": 36,
   "id": "664219f3",
   "metadata": {},
   "outputs": [
    {
     "name": "stdout",
     "output_type": "stream",
     "text": [
      "-3 is not a positive value!\n",
      "meow\n",
      "meow\n"
     ]
    }
   ],
   "source": [
    "while True:\n",
    "    n = int(input(\"Enter a positive integer\"))\n",
    "    if n < 0:\n",
    "        print(f\"{n} is not a positive value!\") \n",
    "        continue #if user inputs anything other than a positive integer, loop only runs and runs\n",
    "                 #and prints that it is not a positive value\n",
    "    else: \n",
    "        break #breaks out of the loop with the input being inside n and proceeds to the for loop\n",
    "              #with n being the range\n",
    "\n",
    "for _ in range(n):\n",
    "    print(\"meow\")\n"
   ]
  },
  {
   "cell_type": "code",
   "execution_count": 44,
   "id": "6735a5d1",
   "metadata": {},
   "outputs": [
    {
     "name": "stdout",
     "output_type": "stream",
     "text": [
      "meow\n",
      "meow\n",
      "meow\n",
      "meow\n"
     ]
    }
   ],
   "source": [
    "#making the code above into a function\n",
    "\n",
    "def main():\n",
    "    num = get_number()\n",
    "    meow(num)\n",
    "\n",
    "\n",
    "def get_number():\n",
    "    while True:\n",
    "        n = int(input(\"Give me a number\"))\n",
    "        if n > 0:\n",
    "            break\n",
    "    return n\n",
    "#when you use break to get out of a loop, but you need to hand back a value from a function,\n",
    "#you need to use return outside of the loop but still inside the function.\n",
    "#you can also just use return inside the loop,\n",
    "#example: if n > 0:\n",
    "#           return n\n",
    "\n",
    "\n",
    "def meow(n):\n",
    "    for _ in range(n):\n",
    "        print(\"meow\")\n",
    "\n",
    "main()"
   ]
  },
  {
   "cell_type": "markdown",
   "id": "fa245953",
   "metadata": {},
   "source": [
    "**LIST**\n",
    "\n",
    "a list is a versatile, ordered, and mutable collection of items"
   ]
  },
  {
   "cell_type": "code",
   "execution_count": 49,
   "id": "2cebbbeb",
   "metadata": {},
   "outputs": [
    {
     "name": "stdout",
     "output_type": "stream",
     "text": [
      "Tu\n",
      "Juan\n",
      "Tu\n",
      "Tri\n",
      "1 Juan\n",
      "2 Tu\n",
      "3 Tri\n"
     ]
    }
   ],
   "source": [
    "students = [\"Juan\", \"Tu\", \"Tri\"]\n",
    "\n",
    "print(students[1]) #to access an element in a list, enclose the number in brackets\n",
    "\n",
    "#using for loop to iterate over the list\n",
    "\n",
    "for student in students:\n",
    "    print(student)\n",
    "\n",
    "for i in range(len(students)): #len() counts the length of the list in this case is 3 since we can't\n",
    "                                #find the range of a variable literally\n",
    "    print(i + 1, students[i])    "
   ]
  },
  {
   "cell_type": "markdown",
   "id": "e0044ce2",
   "metadata": {},
   "source": [
    "**DICT**\n",
    "\n",
    "a built-in data type that stores collections of key-value pairs. It is a mutable, unordered collection, where keys must be unique and immutable"
   ]
  },
  {
   "cell_type": "code",
   "execution_count": 70,
   "id": "544e2223",
   "metadata": {},
   "outputs": [
    {
     "name": "stdout",
     "output_type": "stream",
     "text": [
      "Gryffindor \n",
      "\n",
      "Hermione, Gryffindor\n",
      "Harry, Gryffindor\n",
      "Ron, Gryffindor\n",
      "Draco, Slytherin\n"
     ]
    }
   ],
   "source": [
    "students = {\n",
    "    \"Hermione\": \"Gryffindor\", \n",
    "    \"Harry\": \"Gryffindor\", \n",
    "    \"Ron\": \"Gryffindor\", \n",
    "    \"Draco\": \"Slytherin\" \n",
    "    }\n",
    "\n",
    "print(students[\"Harry\"], \"\\n\")\n",
    "\n",
    "for student in students:\n",
    "    print(student, students[student], sep =\", \")"
   ]
  },
  {
   "cell_type": "code",
   "execution_count": null,
   "id": "e7b2fa86",
   "metadata": {},
   "outputs": [
    {
     "name": "stdout",
     "output_type": "stream",
     "text": [
      "Hermione, Gryffindor, Otter\n",
      "Harry, Gryffindor, Stag\n",
      "Ron, Gryffindor, Jack Russell Terrier\n",
      "Draco, Slytherin, None\n"
     ]
    }
   ],
   "source": [
    "students = [\n",
    "    {\"name\": \"Hermione\", \"house\": \"Gryffindor\", \"patronus\": \"Otter\"},\n",
    "    {\"name\": \"Harry\", \"house\": \"Gryffindor\", \"patronus\": \"Stag\"},\n",
    "    {\"name\": \"Ron\", \"house\": \"Gryffindor\", \"patronus\": \"Jack Russell Terrier\"},\n",
    "    {\"name\": \"Draco\", \"house\": \"Slytherin\", \"patronus\": None}\n",
    "] #dictionary with multiple key pairs\n",
    "\n",
    "for student in students:\n",
    "    print(student[\"name\"], student[\"house\"], student[\"patronus\"], sep = \", \")"
   ]
  },
  {
   "cell_type": "code",
   "execution_count": 122,
   "id": "9c1e18c2",
   "metadata": {},
   "outputs": [
    {
     "name": "stdout",
     "output_type": "stream",
     "text": [
      "#\n",
      "#\n",
      "#\n",
      "\n",
      "????\n",
      "\n",
      "###\n",
      "###\n",
      "###\n",
      "\n",
      "    *\n",
      "   ***\n",
      "  *****\n"
     ]
    }
   ],
   "source": [
    "def main():\n",
    "    print_column(3)\n",
    "    print()\n",
    "    print_row(4)\n",
    "    print()\n",
    "    print_square(3)\n",
    "    print()\n",
    "    pyramid(3)\n",
    "    \n",
    "\n",
    "def print_column(height):\n",
    "    for _ in range(height):\n",
    "        print(\"#\")\n",
    "\n",
    "def print_row(width):\n",
    "    for _ in range(width):\n",
    "        print(\"?\", end=\"\")\n",
    "    print()\n",
    "\n",
    "def print_square(size):\n",
    "    for row in range(size):\n",
    "        for column in range(size):\n",
    "            print(\"#\", end=\"\")\n",
    "        print()\n",
    "\n",
    "def pyramid(rows):\n",
    "    for row in range(rows):\n",
    "        #number of spaces before printing a star\n",
    "        for spaces in range(rows - row + 1):\n",
    "            print(\" \", end=\"\")\n",
    "        #printing how many stars in each row\n",
    "        for star in range(2 * row + 1):\n",
    "            print(\"*\", end=\"\")\n",
    "        print()\n",
    "main()"
   ]
  },
  {
   "cell_type": "markdown",
   "id": "a78b8baf",
   "metadata": {},
   "source": [
    "**EXCEPTIONS**\n",
    "\n",
    "events that disrupt the normal flow of a program's execution. They occur when errors or unexpected situations arise during runtime.\n",
    "\n",
    "**Common Built-In Exceptions**\n",
    "\n",
    "    ZeroDivisionError: Raised when dividing by zero.\n",
    "    IndexError: Raised when accessing an invalid index in a sequence.\n",
    "    KeyError: Raised when trying to access a dictionary key that doesn't exist.\n",
    "    TypeError: Raised when an operation is performed on an object of an inappropriate type.\n",
    "    FileNotFoundError: Raised when attempting to open a file that does not exist. \n",
    "    ValueError: Raised when a function receives an argument with an inappropriate value. \n",
    "    SyntaxError: Raised when there is an error in the syntax of the code. \n",
    "    IndentationError: Raised when there is incorrect indentation in the code.\n",
    "    NotImplementedError: Raised when a method or function has not yet been implemented. \n",
    "    RuntimeError: Raised when an error occurs during the execution of the program.\n",
    "    ArithmeticError: Base class for arithmetic-related errors like OverflowError and FloatingPointError."
   ]
  },
  {
   "cell_type": "markdown",
   "id": "0b2bf1ef",
   "metadata": {},
   "source": [
    "Handling Exceptions:\n",
    "The try and except blocks are used to handle exceptions. Code that might raise an exception is placed within a try block. If an exception occurs, Python looks for a matching except block to handle it."
   ]
  },
  {
   "cell_type": "code",
   "execution_count": 131,
   "id": "34b3f329",
   "metadata": {},
   "outputs": [
    {
     "name": "stdout",
     "output_type": "stream",
     "text": [
      "x is 24\n"
     ]
    }
   ],
   "source": [
    "#x = int(input(\"What's x?\"))\n",
    "print(f\"x is {x}\")"
   ]
  },
  {
   "cell_type": "code",
   "execution_count": null,
   "id": "560afe08",
   "metadata": {},
   "outputs": [
    {
     "name": "stdout",
     "output_type": "stream",
     "text": [
      "x is not an integer\n",
      "x is 0\n"
     ]
    }
   ],
   "source": [
    "try:\n",
    "    x = int(input(\"What's x?\")) #the int function is making an error\n",
    "    #there's no value being evaluated because the input isn't being\n",
    "    #copied to the left(variable)\n",
    "except ValueError: #exceptions are case sensitive\n",
    "    print(\"x is not an integer\")\n",
    "\n",
    "print(f\"x is {x}\")"
   ]
  },
  {
   "cell_type": "markdown",
   "id": "33b63d04",
   "metadata": {},
   "source": [
    "**else**"
   ]
  },
  {
   "cell_type": "code",
   "execution_count": 136,
   "id": "e69ca20c",
   "metadata": {},
   "outputs": [
    {
     "name": "stdout",
     "output_type": "stream",
     "text": [
      "x is not an integer\n",
      "x is not an integer\n",
      "x is not an integer\n",
      "x is 34\n"
     ]
    }
   ],
   "source": [
    "while True:\n",
    "    try:\n",
    "        x = int(input(\"What's x?\"))\n",
    "    except ValueError: #exceptions are case sensitive\n",
    "        print(\"x is not an integer\")\n",
    "    else:\n",
    "        break\n",
    "\n",
    "print(f\"x is {x}\")"
   ]
  },
  {
   "cell_type": "code",
   "execution_count": null,
   "id": "ec1d24fa",
   "metadata": {},
   "outputs": [
    {
     "name": "stdout",
     "output_type": "stream",
     "text": [
      "x is 34\n"
     ]
    }
   ],
   "source": [
    "#putting above code in a function\n",
    "\n",
    "def main():\n",
    "    get_int()\n",
    "    print(f\"x is {x}\")\n",
    "\n",
    "def get_int():\n",
    "    while True:\n",
    "        try:\n",
    "            return int(input(\"What's x?\")) #concise way\n",
    "        except ValueError: #exceptions are case sensitive\n",
    "            print(\"x is not an integer\")\n",
    "\n",
    "\n",
    "main()\n",
    "\n"
   ]
  },
  {
   "cell_type": "markdown",
   "id": "fc63e19e",
   "metadata": {},
   "source": [
    "**pass**"
   ]
  },
  {
   "cell_type": "code",
   "execution_count": 142,
   "id": "acc68d2a",
   "metadata": {},
   "outputs": [
    {
     "name": "stdout",
     "output_type": "stream",
     "text": [
      "x is 34\n"
     ]
    }
   ],
   "source": [
    "#putting above code in a function\n",
    "\n",
    "def main():\n",
    "    get_int()\n",
    "    print(f\"x is {x}\")\n",
    "\n",
    "def get_int():\n",
    "    while True:\n",
    "        try:\n",
    "            return int(input(\"What's x?\")) #concise way\n",
    "        except ValueError: #exceptions are case sensitive\n",
    "            pass\n",
    "\n",
    "\n",
    "main()\n",
    "\n"
   ]
  },
  {
   "cell_type": "code",
   "execution_count": 145,
   "id": "b45310a7",
   "metadata": {},
   "outputs": [
    {
     "name": "stdout",
     "output_type": "stream",
     "text": [
      "x is 24\n"
     ]
    }
   ],
   "source": [
    "#putting above code in a function\n",
    "\n",
    "def main():\n",
    "    x = get_int(\"What's x?\")\n",
    "    print(f\"x is {x}\")\n",
    "\n",
    "def get_int(prompt):\n",
    "    while True:\n",
    "        try:\n",
    "            return int(input(prompt)) #concise way\n",
    "        except ValueError: #exceptions are case sensitive\n",
    "            pass\n",
    "\n",
    "\n",
    "main()\n",
    "\n"
   ]
  },
  {
   "cell_type": "markdown",
   "id": "7f634e02",
   "metadata": {},
   "source": [
    "**raise**\n",
    "\n",
    "used to raise exceptions or errors. The raise keyword raises an error and stops the control flow of the program. It is used to bring up the current exception in an exception handler so that it can be handled further up the call stack."
   ]
  },
  {
   "cell_type": "code",
   "execution_count": 146,
   "id": "3f5d4be2",
   "metadata": {},
   "outputs": [
    {
     "ename": "Exception",
     "evalue": "This is an error message",
     "output_type": "error",
     "traceback": [
      "\u001b[31m---------------------------------------------------------------------------\u001b[39m",
      "\u001b[31mException\u001b[39m                                 Traceback (most recent call last)",
      "\u001b[36mCell\u001b[39m\u001b[36m \u001b[39m\u001b[32mIn[146]\u001b[39m\u001b[32m, line 1\u001b[39m\n\u001b[32m----> \u001b[39m\u001b[32m1\u001b[39m \u001b[38;5;28;01mraise\u001b[39;00m \u001b[38;5;167;01mException\u001b[39;00m(\u001b[33m\"\u001b[39m\u001b[33mThis is an error message\u001b[39m\u001b[33m\"\u001b[39m)\n",
      "\u001b[31mException\u001b[39m: This is an error message"
     ]
    }
   ],
   "source": [
    "raise Exception(\"This is an error message\")"
   ]
  },
  {
   "cell_type": "code",
   "execution_count": 154,
   "id": "ab029458",
   "metadata": {},
   "outputs": [
    {
     "ename": "ValueError",
     "evalue": "invalid literal for int() with base 10: 'cat'",
     "output_type": "error",
     "traceback": [
      "\u001b[31m---------------------------------------------------------------------------\u001b[39m",
      "\u001b[31mValueError\u001b[39m                                Traceback (most recent call last)",
      "\u001b[36mCell\u001b[39m\u001b[36m \u001b[39m\u001b[32mIn[154]\u001b[39m\u001b[32m, line 16\u001b[39m\n\u001b[32m     13\u001b[39m         \u001b[38;5;28;01mexcept\u001b[39;00m:\n\u001b[32m     14\u001b[39m             \u001b[38;5;28;01mraise\u001b[39;00m\n\u001b[32m---> \u001b[39m\u001b[32m16\u001b[39m \u001b[43mmain\u001b[49m\u001b[43m(\u001b[49m\u001b[43m)\u001b[49m\n",
      "\u001b[36mCell\u001b[39m\u001b[36m \u001b[39m\u001b[32mIn[154]\u001b[39m\u001b[32m, line 4\u001b[39m, in \u001b[36mmain\u001b[39m\u001b[34m()\u001b[39m\n\u001b[32m      3\u001b[39m \u001b[38;5;28;01mdef\u001b[39;00m\u001b[38;5;250m \u001b[39m\u001b[34mmain\u001b[39m():\n\u001b[32m----> \u001b[39m\u001b[32m4\u001b[39m     x = \u001b[43mget_int\u001b[49m\u001b[43m(\u001b[49m\u001b[33;43m\"\u001b[39;49m\u001b[33;43mWhat\u001b[39;49m\u001b[33;43m'\u001b[39;49m\u001b[33;43ms x?\u001b[39;49m\u001b[33;43m\"\u001b[39;49m\u001b[43m)\u001b[49m\n\u001b[32m      5\u001b[39m     \u001b[38;5;28mprint\u001b[39m(\u001b[33mf\u001b[39m\u001b[33m\"\u001b[39m\u001b[33mx is \u001b[39m\u001b[38;5;132;01m{\u001b[39;00mx\u001b[38;5;132;01m}\u001b[39;00m\u001b[33m\"\u001b[39m)\n",
      "\u001b[36mCell\u001b[39m\u001b[36m \u001b[39m\u001b[32mIn[154]\u001b[39m\u001b[32m, line 10\u001b[39m, in \u001b[36mget_int\u001b[39m\u001b[34m(prompt)\u001b[39m\n\u001b[32m      8\u001b[39m \u001b[38;5;28;01mwhile\u001b[39;00m \u001b[38;5;28;01mTrue\u001b[39;00m:\n\u001b[32m      9\u001b[39m     \u001b[38;5;28;01mtry\u001b[39;00m:\n\u001b[32m---> \u001b[39m\u001b[32m10\u001b[39m         \u001b[38;5;28;01mreturn\u001b[39;00m \u001b[38;5;28;43mint\u001b[39;49m\u001b[43m(\u001b[49m\u001b[38;5;28;43minput\u001b[39;49m\u001b[43m(\u001b[49m\u001b[43mprompt\u001b[49m\u001b[43m)\u001b[49m\u001b[43m)\u001b[49m \u001b[38;5;66;03m#concise way\u001b[39;00m\n\u001b[32m     11\u001b[39m     \u001b[38;5;66;03m# except ValueError: #exceptions are case sensitive\u001b[39;00m\n\u001b[32m     12\u001b[39m     \u001b[38;5;66;03m#     raise ValueError(\"Not an integer\")\u001b[39;00m\n\u001b[32m     13\u001b[39m     \u001b[38;5;28;01mexcept\u001b[39;00m:\n",
      "\u001b[31mValueError\u001b[39m: invalid literal for int() with base 10: 'cat'"
     ]
    }
   ],
   "source": [
    "#putting above code in a function\n",
    "\n",
    "def main():\n",
    "    x = get_int(\"What's x?\")\n",
    "    print(f\"x is {x}\")\n",
    "\n",
    "def get_int(prompt):\n",
    "    while True:\n",
    "        try:\n",
    "            return int(input(prompt)) #concise way\n",
    "        # except ValueError: #exceptions are case sensitive\n",
    "        #     raise ValueError(\"Not an integer\")\n",
    "        except:\n",
    "            raise\n",
    "\n",
    "main()\n",
    "\n"
   ]
  },
  {
   "cell_type": "markdown",
   "id": "dab58ac8",
   "metadata": {},
   "source": [
    "**Libraries**"
   ]
  },
  {
   "cell_type": "markdown",
   "id": "fa35cff7",
   "metadata": {},
   "source": [
    "- **MODULES**\n",
    "\n",
    "    > random\n",
    "    \n",
    "        -built-in library that provides functions for generating pseudo-random numbers and performing random operations. It is used in various applications such as simulations, games, and cryptography. "
   ]
  },
  {
   "cell_type": "markdown",
   "id": "48033b27",
   "metadata": {},
   "source": [
    "            import\n",
    "\n",
    "                -used to bring code from modules or packages into your current scope, allowing you to reuse existing functionality."
   ]
  },
  {
   "cell_type": "markdown",
   "id": "0b2d9c6f",
   "metadata": {},
   "source": [
    "            from\n",
    "\n",
    "                -primarily used to import specific objects from a module into your current namespace"
   ]
  },
  {
   "cell_type": "code",
   "execution_count": 155,
   "id": "6d72db82",
   "metadata": {},
   "outputs": [
    {
     "name": "stdout",
     "output_type": "stream",
     "text": [
      "heads\n"
     ]
    }
   ],
   "source": [
    "import random\n",
    "\n",
    "coin = [\"heads\",\"tails\"]\n",
    "randint = random.choice(coin)\n",
    "\n",
    "print(randint)"
   ]
  },
  {
   "cell_type": "code",
   "execution_count": null,
   "id": "0abdf04e",
   "metadata": {},
   "outputs": [
    {
     "name": "stdout",
     "output_type": "stream",
     "text": [
      "tails heads tails Flipping the coin 3 time/s gave us tails.\n"
     ]
    }
   ],
   "source": [
    "import random\n",
    "\n",
    "#using while loop\n",
    "\n",
    "def main():\n",
    "    x = int(input(\"How many times do you want to flip the coin?\"))\n",
    "    print(f\"Flipping the coin {x} time/s gave us {hot(x)}.\")\n",
    "\n",
    "\n",
    "def hot(x):\n",
    "    i = 0\n",
    "    while i != x:\n",
    "            coin = [\"heads\",\"tails\"]\n",
    "            flip = random.choice(coin)\n",
    "            i += 1\n",
    "            print(flip, end=\" \")\n",
    "    return flip\n",
    "\n",
    "main()"
   ]
  },
  {
   "cell_type": "code",
   "execution_count": 221,
   "id": "56338e02",
   "metadata": {},
   "outputs": [
    {
     "name": "stdout",
     "output_type": "stream",
     "text": [
      "heads\n",
      "heads\n",
      "tails\n",
      "tails\n",
      "Flipping the coin 4 times gaves us tails\n"
     ]
    }
   ],
   "source": [
    "import random\n",
    "\n",
    "#using for loop\n",
    "\n",
    "def main():\n",
    "    x = int(input(\"How many flippin' times, man?\"))\n",
    "    print(f\"Flipping the coin {x} times gaves us {flips(x)}\")\n",
    "\n",
    "def flips(x):\n",
    "    coin = [\"heads\", \"tails\"]\n",
    "    for _ in range(x):\n",
    "        result = random.choice(coin)\n",
    "        print(result)\n",
    "    return result\n",
    "    \n",
    "main()"
   ]
  },
  {
   "cell_type": "markdown",
   "id": "642e77c5",
   "metadata": {},
   "source": [
    "**statistics**\n",
    "\n",
    "        -provides functions for calculating mathematical statistics of numeric data.\n",
    "        "
   ]
  },
  {
   "cell_type": "code",
   "execution_count": 223,
   "id": "3bf68140",
   "metadata": {},
   "outputs": [
    {
     "name": "stdout",
     "output_type": "stream",
     "text": [
      "95\n"
     ]
    }
   ],
   "source": [
    "import statistics\n",
    "\n",
    "print(statistics.mean([100, 90]))\n"
   ]
  },
  {
   "cell_type": "markdown",
   "id": "60b38ef2",
   "metadata": {},
   "source": [
    "**command-line arguments**\n",
    "\n",
    "        -parameters passed to a Python script when it is executed from the command line. These arguments allow users to customize the script's behavior without modifying the code directly"
   ]
  },
  {
   "cell_type": "markdown",
   "id": "73455731",
   "metadata": {},
   "source": [
    "        sys.argv\n",
    "                -sys module that provides access to command-line arguments passed to a script. It is a list where the first element (sys.argv[0]) is always the script's name, and subsequent elements are the arguments provided by the user.\n"
   ]
  },
  {
   "cell_type": "code",
   "execution_count": 228,
   "id": "533e58fe",
   "metadata": {},
   "outputs": [
    {
     "name": "stdout",
     "output_type": "stream",
     "text": [
      "hello, my name is --f=c:\\Users\\richard.c.ferrer\\AppData\\Roaming\\jupyter\\runtime\\kernel-v351e52764bf7d47842b6b0265b2c2460499aecb02.json\n"
     ]
    }
   ],
   "source": [
    "import sys\n",
    "\n",
    "print(\"hello, my name is\", sys.argv[1])\n",
    "\n",
    "#works in a python file, not a notebook"
   ]
  },
  {
   "cell_type": "markdown",
   "id": "3a7df28d",
   "metadata": {},
   "source": [
    "**slices**\n",
    "\n",
    "        -Slicing in Python is a powerful technique for extracting portions of sequences like strings, lists, and tuples. It uses the colon operator : within square brackets [] to specify the start, end, and step of the slice"
   ]
  },
  {
   "cell_type": "code",
   "execution_count": null,
   "id": "3eceb5d8",
   "metadata": {},
   "outputs": [],
   "source": [
    "import sys\n",
    "\n",
    "if len(sys.argv) < 2:\n",
    "    sys.exit(\"Too few arguments\")\n",
    "\n",
    "for arg in sys.argv[1:]: #starts at element/location 1, not 0 and the colon\n",
    "                        #and blank means the rest of the list\n",
    "    print(\"hello, my name is\", arg)"
   ]
  },
  {
   "cell_type": "markdown",
   "id": "56237a45",
   "metadata": {},
   "source": [
    "**packages**\n",
    "\n",
    "            -a folder that contains an __init__.py file and one or more Python files (modules). This organization helps manage and reuse code effectively, especially in larger projects. It also allows functionality to be easily shared and distributed across different applications.\n",
    "\n",
    "            -pypi.org"
   ]
  },
  {
   "cell_type": "markdown",
   "id": "f49abddb",
   "metadata": {},
   "source": [
    "**pip**\n",
    "\n",
    "        -a package manager used to install and manage software packages or libraries. It allows you to easily install external packages from the Python Package Index (PyPI) and other sources, making it an essential tool for Python development."
   ]
  },
  {
   "cell_type": "code",
   "execution_count": null,
   "id": "9b783ebe",
   "metadata": {},
   "outputs": [],
   "source": [
    "import cowsay\n",
    "import sys\n",
    "\n",
    "if len(sys.argv) == 2:\n",
    "    # cowsay.cow(\"hello, \" + sys.argv[1])\n",
    "    cowsay.trex(\"hello, \" + sys.argv[1])"
   ]
  },
  {
   "cell_type": "markdown",
   "id": "41e1102c",
   "metadata": {},
   "source": [
    "**APIs**\n",
    "\n",
    "        -(Application Programming Interface) is a set of rules and protocols that allows different software applications to communicate and interact with each other. It acts as a bridge between applications, enabling them to exchange data and functionality. "
   ]
  },
  {
   "cell_type": "markdown",
   "id": "705324e2",
   "metadata": {},
   "source": [
    "**requests**\n",
    "\n",
    "            -requests library in Python is a widely used tool for making HTTP requests. It simplifies the process of interacting with web services and APIs, allowing developers to send requests and handle responses with ease."
   ]
  },
  {
   "cell_type": "markdown",
   "id": "1db03306",
   "metadata": {},
   "source": [
    "**PARTS OF A URL**\n",
    "\n",
    "\n",
    "HANDLE - \"https://www.google.com/\"\n",
    "\n",
    "ENDPOINT - \"/search\"\n",
    "\n",
    "query - \"lon lat cebu\"\n",
    "\n",
    "PARAMS - {\"q\":\"query\"}"
   ]
  },
  {
   "cell_type": "markdown",
   "id": "c1e411ef",
   "metadata": {},
   "source": [
    "**JSON**\n",
    "\n",
    "        -JSON (JavaScript Object Notation) is a lightweight data-interchange format that is commonly used for transmitting data in web applications and APIs. It is a text-based format that is easy for humans to read and write, and it is also easy for machines to parse and generate.\n",
    "Python has a built-in json module"
   ]
  },
  {
   "cell_type": "markdown",
   "id": "a376267b",
   "metadata": {},
   "source": [
    "**__name__**\n",
    "\n",
    "_ _ name _ _ is a variable that exists in every Python module, and is set to the name of the module. _ _ main _ _ is the name of the Python environment where top-level code is run (with top-level code being the first user-specified module to start running).\n"
   ]
  },
  {
   "cell_type": "code",
   "execution_count": 1,
   "id": "b99fa9ad",
   "metadata": {},
   "outputs": [
    {
     "name": "stdout",
     "output_type": "stream",
     "text": [
      "hello world\n",
      "goodbye world\n"
     ]
    }
   ],
   "source": [
    "def main():\n",
    "    hello(\"world\")\n",
    "    goodbye(\"world\")\n",
    "\n",
    "def hello(name):\n",
    "    print(f\"hello {name}\")\n",
    "\n",
    "def goodbye(name):\n",
    "    print(f\"goodbye {name}\")\n",
    "\n",
    "if __name__ == \"__main__\":\n",
    "    main()"
   ]
  },
  {
   "cell_type": "code",
   "execution_count": null,
   "id": "5e645689",
   "metadata": {},
   "outputs": [],
   "source": [
    "import sys\n",
    "\n",
    "from sayings import hello, goodbye\n",
    "\n",
    "if len(sys.argv) > 1:\n",
    "    hello(sys.argv[1])\n",
    "    goodbye(sys.argv[1])"
   ]
  },
  {
   "cell_type": "markdown",
   "id": "38f2a212",
   "metadata": {},
   "source": [
    "**UNIT TESTS**\n",
    "\n",
    "Unit tests are segments of code written to test other pieces of code, typically a single function or method, that we refer to as a unit."
   ]
  },
  {
   "cell_type": "code",
   "execution_count": null,
   "id": "dd1baa02",
   "metadata": {},
   "outputs": [],
   "source": [
    "#main code\n",
    "\n",
    "def main():\n",
    "    x = int(input(\"What's x? \"))\n",
    "    print(\"x squared is\", square(x))\n",
    "\n",
    "\n",
    "def square(n):\n",
    "    return n * n \n",
    "\n",
    "if __name__ == \"__main__\":\n",
    "    main()"
   ]
  },
  {
   "cell_type": "code",
   "execution_count": null,
   "id": "dcaf2cea",
   "metadata": {},
   "outputs": [],
   "source": [
    "#test script\n",
    "\n",
    "from calculator import square\n",
    "\n",
    "def main():\n",
    "    test_square()\n",
    "\n",
    "def test_square():\n",
    "    if square(2) != 4:\n",
    "        print(\"2 squared was not 4\")\n",
    "    if square(3) != 9:\n",
    "        print(\"3 square was not 9\")\n",
    "\n",
    "\n",
    "if __name__ == \"__main__\":\n",
    "    main()"
   ]
  },
  {
   "cell_type": "markdown",
   "id": "f3d05d54",
   "metadata": {},
   "source": [
    "**assert**\n",
    "\n",
    "In simpler terms, we can say that assertion is the boolean expression that checks if the statement is True or False. If the statement is true then it does nothing and continues the execution, but if the statement is False then it stops the execution of the program and throws an error\n",
    "\n",
    "    **AssertionError** "
   ]
  },
  {
   "cell_type": "code",
   "execution_count": null,
   "id": "b6323d18",
   "metadata": {},
   "outputs": [],
   "source": [
    "from calculator import square\n",
    "\n",
    "def main():\n",
    "    test_square()\n",
    "\n",
    "def test_square():\n",
    "    try:\n",
    "        assert square(2) == 4\n",
    "    except AssertionError:\n",
    "        print(\"2 squared was not 4\")\n",
    "    try:\n",
    "        assert square(3) == 9\n",
    "    except AssertionError:\n",
    "        print(\"3 squared was not 9\")\n",
    "    try:\n",
    "        assert square(-3) == 9\n",
    "    except AssertionError:\n",
    "        print(\"-3 squared was not 9\")\n",
    "    try:\n",
    "        assert square(0) == 0\n",
    "    except AssertionError:\n",
    "        print(\"0 squared was not 0\")\n",
    "\n",
    "\n",
    "if __name__ == \"__main__\":\n",
    "    main()"
   ]
  },
  {
   "cell_type": "markdown",
   "id": "8c99344b",
   "metadata": {},
   "source": [
    "**pytest**\n",
    "\n",
    "Pytest is a widely used and powerful testing framework for Python. It simplifies the process of writing and executing various types of software tests, including unit tests, integration tests, end-to-end tests, and functional tests. "
   ]
  },
  {
   "cell_type": "code",
   "execution_count": null,
   "id": "eded7ab6",
   "metadata": {},
   "outputs": [],
   "source": [
    "#type pytest [name of file with file extension] in terminal\n",
    "\n",
    "from calculator import square\n",
    "\n",
    "def test_square():\n",
    "    assert square(2) == 4\n",
    "    assert square(3) == 9\n",
    "    assert square(-2) == 4\n",
    "    assert square(-3) == 9\n",
    "    assert square(0) == 0\n",
    "\n",
    "# ====================================== test session starts ======================================\n",
    "# platform win32 -- Python 3.13.5, pytest-8.4.1, pluggy-1.6.0\n",
    "# rootdir: C:\\Users\\richard.c.ferrer\\Agents\n",
    "# collected 1 item\n",
    "\n",
    "# test_calculator.py F                                                                       [100%]\n",
    "\n",
    "# =========================================== FAILURES ============================================ \n",
    "# __________________________________________ test_square __________________________________________ \n",
    "\n",
    "#     def test_square():\n",
    "#         assert square(2) == 4\n",
    "# >       assert square(3) == 9\n",
    "# E       assert 6 == 9\n",
    "# E        +  where 6 = square(3)\n",
    "\n",
    "# test_calculator.py:22: AssertionError\n",
    "# ==================================== short test summary info ==================================== \n",
    "# FAILED test_calculator.py::test_square - assert 6 == 9"
   ]
  },
  {
   "cell_type": "markdown",
   "id": "d7156efd",
   "metadata": {},
   "source": [
    "**File I/O**\n",
    "\n",
    "File I/O (Input/Output) in Python involves operations for interacting with files on a computer's storage. This includes reading data from files and writing data to files. "
   ]
  },
  {
   "cell_type": "markdown",
   "id": "977feb47",
   "metadata": {},
   "source": [
    "*open* function \n",
    "\n",
    "-open()\n",
    "\n",
    "In Python, the open() built-in function is used to interact with files on the file system. It returns a file object, which can then be used to read from or write to the file."
   ]
  },
  {
   "cell_type": "code",
   "execution_count": null,
   "id": "022ba2ce",
   "metadata": {},
   "outputs": [],
   "source": [
    "#==========================================================================#\n",
    "# with open(\"students.csv\") as file:\n",
    "#     for line in file:\n",
    "#         row = line.rstrip().split(\",\")\n",
    "#         print(f\"{row[0]} is in {row[1]}\")\n",
    "#==========================================================================#\n",
    "\n",
    "\n",
    "#==========================================================================#\n",
    "# #you can unpack the list into variables instead making it name & house\n",
    "# with open(\"students.csv\") as file:\n",
    "#     for line in file:\n",
    "#         name, house = line.rstrip().split(\",\")\n",
    "#         print(f\"{name} is in {house}\")\n",
    "#==========================================================================#\n",
    "\n",
    "#==========================================================================#\n",
    "#you can make the pairs in the list into a dictionary inside of the list instead \n",
    "#and use a function to get the value from dict. using its key to pass it to the \n",
    "# sorted function to be able to sort them by either name or house\n",
    "\n",
    "# students = []\n",
    "\n",
    "# with open(\"students.csv\") as file:\n",
    "#     for line in file:\n",
    "#         name, house = line.rstrip().split(\",\")\n",
    "#         student = {\"name\": name, \"house\": house}\n",
    "#         students.append(student)\n",
    "\n",
    "# def get_name(student):\n",
    "#     return student[\"name\"]\n",
    "\n",
    "# for student in sorted(students, key= get_name, reverse = True ): \n",
    "#     print(f\"{student[\"name\"]} is in {student[\"house\"]}\")\n",
    "#==========================================================================#\n",
    "\n",
    "#==========================================================================#\n",
    "#you can use lambda (an anonymous function)\n",
    "students = []\n",
    "\n",
    "with open(\"students.csv\") as file:\n",
    "    for line in file:\n",
    "        name, house = line.rstrip().split(\",\")\n",
    "        student = {\"name\": name, \"house\": house}\n",
    "        students.append(student)\n",
    "\n",
    "for student in sorted(students, key= lambda student: student[\"name\"]): \n",
    "    print(f\"{student[\"name\"]} is in {student[\"house\"]}\")\n",
    "#==========================================================================#"
   ]
  },
  {
   "cell_type": "markdown",
   "id": "87be5c53",
   "metadata": {},
   "source": [
    "**lambda**\n",
    "\n",
    "In Python, a lambda function is a small, anonymous function defined with the lambda keyword. Unlike a regular function defined with def, a lambda function does not require a name and is typically used for short, one-time operations.\n",
    "\n",
    "lambda arguments : expression\n",
    "\n",
    "Add 10 to argument a, and return the result:\n",
    "\n",
    "x = lambda a : a + 10\n",
    "\n",
    "print(x(5))"
   ]
  },
  {
   "cell_type": "code",
   "execution_count": null,
   "id": "3a5a23fa",
   "metadata": {},
   "outputs": [],
   "source": []
  }
 ],
 "metadata": {
  "kernelspec": {
   "display_name": ".venv",
   "language": "python",
   "name": "python3"
  },
  "language_info": {
   "codemirror_mode": {
    "name": "ipython",
    "version": 3
   },
   "file_extension": ".py",
   "mimetype": "text/x-python",
   "name": "python",
   "nbconvert_exporter": "python",
   "pygments_lexer": "ipython3",
   "version": "3.13.5"
  }
 },
 "nbformat": 4,
 "nbformat_minor": 5
}
