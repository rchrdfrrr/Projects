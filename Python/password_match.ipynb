{
 "cells": [
  {
   "cell_type": "code",
   "execution_count": 49,
   "id": "b7c88f5f",
   "metadata": {},
   "outputs": [
    {
     "name": "stdout",
     "output_type": "stream",
     "text": [
      "The password was guessed! Password is: n | Password guessed: n\n",
      "Numbers of tries: 28\n"
     ]
    }
   ],
   "source": [
    "import string\n",
    "import random\n",
    "\n",
    "def main():\n",
    "    password= \"n\"\n",
    "    letters=string.ascii_lowercase\n",
    "    guess = \"\"\n",
    "    i = 0\n",
    "    while guess != password:\n",
    "        i += 1\n",
    "        guess = random.choice(letters)\n",
    "        if guess == password:\n",
    "            break\n",
    "    print(f\"The password was guessed! Password is: {password} | Password guessed: {guess}\")\n",
    "    print(f\"Numbers of tries: {i}\")\n",
    "\n",
    "if __name__ == \"__main__\":\n",
    "    main()\n"
   ]
  }
 ],
 "metadata": {
  "kernelspec": {
   "display_name": ".venv",
   "language": "python",
   "name": "python3"
  },
  "language_info": {
   "codemirror_mode": {
    "name": "ipython",
    "version": 3
   },
   "file_extension": ".py",
   "mimetype": "text/x-python",
   "name": "python",
   "nbconvert_exporter": "python",
   "pygments_lexer": "ipython3",
   "version": "3.13.5"
  }
 },
 "nbformat": 4,
 "nbformat_minor": 5
}
